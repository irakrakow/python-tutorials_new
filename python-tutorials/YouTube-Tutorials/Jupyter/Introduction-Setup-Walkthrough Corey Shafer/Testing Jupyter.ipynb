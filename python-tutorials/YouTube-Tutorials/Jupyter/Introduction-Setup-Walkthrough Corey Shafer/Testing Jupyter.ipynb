{
 "cells": [
  {
   "cell_type": "code",
   "execution_count": null,
   "id": "81f927d3",
   "metadata": {},
   "outputs": [],
   "source": [
    "import datetime\n",
    "print(datetime.datetime.now())"
   ]
  },
  {
   "cell_type": "markdown",
   "id": "d4370ea7",
   "metadata": {},
   "source": [
    "#  This is a big heading\n",
    "## this is slightly smaller heading\n",
    "\n"
   ]
  },
  {
   "cell_type": "markdown",
   "id": "d9d58ddc",
   "metadata": {},
   "source": [
    "# this is a header"
   ]
  },
  {
   "cell_type": "markdown",
   "id": "714f67e8",
   "metadata": {},
   "source": [
    "### Ira was here\n",
    "\n",
    "*so was Sharon and she is italicized*"
   ]
  },
  {
   "cell_type": "code",
   "execution_count": null,
   "id": "7fd617c3",
   "metadata": {},
   "outputs": [],
   "source": [
    "name"
   ]
  },
  {
   "cell_type": "code",
   "execution_count": 5,
   "id": "522e51ec",
   "metadata": {},
   "outputs": [
    {
     "name": "stdout",
     "output_type": "stream",
     "text": [
      "531 µs ± 37.6 µs per loop (mean ± std. dev. of 7 runs, 1,000 loops each)\n"
     ]
    }
   ],
   "source": [
    "%%timeit\n",
    "square_evens = [n * n for n in range (10000)]"
   ]
  },
  {
   "cell_type": "code",
   "execution_count": null,
   "id": "e4e2543d",
   "metadata": {},
   "outputs": [],
   "source": [
    "%lsmagic"
   ]
  },
  {
   "cell_type": "code",
   "execution_count": null,
   "id": "688dd332",
   "metadata": {},
   "outputs": [],
   "source": [
    "%matplotlib !inline"
   ]
  },
  {
   "cell_type": "code",
   "execution_count": null,
   "id": "8065713b",
   "metadata": {},
   "outputs": [],
   "source": [
    "print(\"HELLO COREY\")"
   ]
  },
  {
   "cell_type": "code",
   "execution_count": null,
   "id": "064d5258",
   "metadata": {},
   "outputs": [],
   "source": [
    "%%HTML"
   ]
  },
  {
   "cell_type": "code",
   "execution_count": null,
   "id": "6e7babe4",
   "metadata": {},
   "outputs": [],
   "source": []
  }
 ],
 "metadata": {
  "kernelspec": {
   "display_name": "Python 3 (ipykernel)",
   "language": "python",
   "name": "python3"
  },
  "language_info": {
   "codemirror_mode": {
    "name": "ipython",
    "version": 3
   },
   "file_extension": ".py",
   "mimetype": "text/x-python",
   "name": "python",
   "nbconvert_exporter": "python",
   "pygments_lexer": "ipython3",
   "version": "3.9.5"
  }
 },
 "nbformat": 4,
 "nbformat_minor": 5
}
